{
 "cells": [
  {
   "cell_type": "code",
   "execution_count": 2,
   "metadata": {},
   "outputs": [],
   "source": [
    "import pandas as pd\n",
    "import openpyxl"
   ]
  },
  {
   "cell_type": "code",
   "execution_count": 13,
   "metadata": {},
   "outputs": [],
   "source": [
    "au_df = pd.read_excel('ERB - MIS as on 13th AU.xlsx')\n",
    "yes_df = pd.read_excel('E REVBAY  DAP MIS SMS Compaign yes.xlsx',sheet_name='DAP13')"
   ]
  },
  {
   "attachments": {},
   "cell_type": "markdown",
   "metadata": {},
   "source": [
    "FOR yes use contact number for unique vals\n",
    "FOR au use lead_id for unique vals"
   ]
  }
 ],
 "metadata": {
  "kernelspec": {
   "display_name": "emailautomate",
   "language": "python",
   "name": "python3"
  },
  "language_info": {
   "codemirror_mode": {
    "name": "ipython",
    "version": 3
   },
   "file_extension": ".py",
   "mimetype": "text/x-python",
   "name": "python",
   "nbconvert_exporter": "python",
   "pygments_lexer": "ipython3",
   "version": "3.9.16"
  },
  "orig_nbformat": 4,
  "vscode": {
   "interpreter": {
    "hash": "3cb1a1be5e95d72a4a690f7250ed6b1da0c708cf54864c4de29e017e1492ec6e"
   }
  }
 },
 "nbformat": 4,
 "nbformat_minor": 2
}
